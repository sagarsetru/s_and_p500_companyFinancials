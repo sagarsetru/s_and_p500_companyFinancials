{
 "cells": [
  {
   "cell_type": "markdown",
   "metadata": {},
   "source": [
    "## Table of contents:\n",
    "* [Part 1: Scrape ticker list from Wikipedia](#part-1)\n",
    "* [Part 2: Exploring data from Wharton Data Research Services](#part-2)"
   ]
  },
  {
   "cell_type": "markdown",
   "metadata": {},
   "source": [
    "## Part 1: scrape ticker list from Wikipedia <a class=\"anchor\" id=\"part-1\"></a>"
   ]
  },
  {
   "cell_type": "code",
   "execution_count": 16,
   "metadata": {},
   "outputs": [],
   "source": [
    "# Sagar Setru\n",
    "# July 1 2020\n",
    "# side project: predict stock price gains from company financials\n",
    "\n",
    "# part 1) get list of companies in S and P 500\n",
    "import requests\n",
    "from urllib.request import urlopen\n",
    "from bs4 import BeautifulSoup\n",
    "\n",
    "# URL from which to scrape\n",
    "url = 'https://en.wikipedia.org/wiki/List_of_S%26P_500_companies'\n",
    "\n",
    "# get HTML data from URL via requests\n",
    "#stock_page = requests.get(url)\n",
    "\n",
    "# get HTML data from URL vis urllib\n",
    "stock_page = urlopen(url)\n",
    "\n",
    "# store HTML in soup object (from reqeusts package)\n",
    "#stock_page_soup = BeautifulSoup(page.content, 'html.parser')\n",
    "\n",
    "# store HTML in soup object (from urllib package)\n",
    "stock_page_soup = BeautifulSoup(stock_page, 'html.parser')\n",
    "\n",
    "# quick save HTML to file for external viewing\n",
    "#printToFile('stockPageHTML.txt',stock_page_view)\n",
    "\n",
    "# find the table tag\n",
    "stock_page_soup_table = stock_page_soup.find_all('table')"
   ]
  },
  {
   "cell_type": "code",
   "execution_count": 2,
   "metadata": {},
   "outputs": [],
   "source": [
    "# get descriptors of features from wharton research database\n",
    "\n",
    "url_features = 'https://wrds-web.wharton.upenn.edu/wrds/ds/compd/funda/index.cfm?navId=83'\n",
    "features_page = urlopen(url_features)\n",
    "features_page_soup = BeautifulSoup(features_page, 'html.parser')\n",
    "# featuresPage_soup"
   ]
  },
  {
   "cell_type": "code",
   "execution_count": 3,
   "metadata": {},
   "outputs": [],
   "source": [
    "# to look at data\n",
    "import sys\n",
    "\n",
    "def printToFile(filename,var_to_print):\n",
    "    \"\"\"\n",
    "    quick function for printing variable to file\n",
    "    printToFile(filename,var_to_print)\n",
    "    \"\"\"\n",
    "    with open(filename,'w') as f:\n",
    "        print(var_to_print, file=f)\n",
    "    #...\n",
    "#...\n",
    "# print(printToFile.__doc__)\n",
    "# print(stock_page)\n",
    "# print(stock_page_soup_table)\n",
    "# printToFile('stockPageTable.txt', stock_page_soup_table)"
   ]
  },
  {
   "cell_type": "code",
   "execution_count": 4,
   "metadata": {},
   "outputs": [],
   "source": [
    "# list for ticker symbols\n",
    "tickers = []\n",
    "\n",
    "# NOTE: following tutorial here: https://towardsdatascience.com/step-by-step-tutorial-web-scraping-wikipedia-with-beautifulsoup-48d7f2dfa52d\n",
    "\n",
    "# print(len(stock_Page_soup_table))\n",
    "# print(stock_page_soup_table[1])\n",
    "\n",
    "# loop through tables identified\n",
    "counter = -1\n",
    "for table in stock_page_soup_table:\n",
    "    counter += 1\n",
    "    \n",
    "    # only work on first table; second table is for changes to s and p index\n",
    "    if counter == 0 :\n",
    "        rows = table.find_all('tr')\n",
    "\n",
    "        for row in rows:\n",
    "            cells = row.find_all('td')\n",
    "\n",
    "            if len(cells) > 1:\n",
    "                ticker = cells[0]\n",
    "                tickers.append(ticker.text.strip())\n",
    "\n",
    "            #...\n",
    "        #...\n",
    "    #...\n",
    "#...\n",
    "\n",
    "# printToFile('tickerSymbolsForSNP500.txt',tickers)\n",
    "# for ticker in tickers:\n",
    "#     print(ticker)\n",
    "# print(counter)\n",
    "# print(tickers)\n",
    "# len(tickers)"
   ]
  },
  {
   "cell_type": "markdown",
   "metadata": {},
   "source": [
    "## Part 2: exploring data from Wharton Data Research Services <a class=\"anchor\" id=\"part-2\"></a>"
   ]
  },
  {
   "cell_type": "code",
   "execution_count": 17,
   "metadata": {},
   "outputs": [
    {
     "name": "stderr",
     "output_type": "stream",
     "text": [
      "C:\\ProgramData\\Anaconda3\\lib\\site-packages\\IPython\\core\\interactiveshell.py:3146: DtypeWarning: Columns (26,30,958,969,970) have mixed types.Specify dtype option on import or set low_memory=False.\n",
      "  interactivity=interactivity, compiler=compiler, result=result)\n"
     ]
    }
   ],
   "source": [
    "# part 2) explore data queried from wharton data research services\n",
    "import pandas as pd\n",
    "\n",
    "# load csv file from wharton data research services for all company financials\n",
    "company_financials = pd.read_csv('companyFinancials.csv')\n",
    "\n",
    "# DtypeWarning: Columns (26,30,958,969,970) have mixed types.\n",
    "\n",
    "# get unique gvkeys to ID each company (for accessing financial ratios for firms on WRD)\n",
    "gvkeys = company_financials.gvkey.unique()\n",
    "# print(len(gvkeys))\n",
    "# for gvkey in gvkeys:\n",
    "#     print(gvkey)\n",
    "#..."
   ]
  },
  {
   "cell_type": "code",
   "execution_count": 18,
   "metadata": {},
   "outputs": [],
   "source": [
    "# print('Variable names of features in company financials data frame')\n",
    "# company_financials.columns\n",
    "# for col in company_financials.columns:\n",
    "#     print(col)"
   ]
  },
  {
   "cell_type": "code",
   "execution_count": 19,
   "metadata": {},
   "outputs": [],
   "source": [
    "# load csv files from wharton data research services for financial ratios for firms\n",
    "company_ratios = pd.read_csv('companyRatios.csv')\n"
   ]
  },
  {
   "cell_type": "code",
   "execution_count": 20,
   "metadata": {},
   "outputs": [
    {
     "name": "stderr",
     "output_type": "stream",
     "text": [
      "C:\\ProgramData\\Anaconda3\\lib\\site-packages\\IPython\\core\\interactiveshell.py:3146: DtypeWarning: Columns (5,9) have mixed types.Specify dtype option on import or set low_memory=False.\n",
      "  interactivity=interactivity, compiler=compiler, result=result)\n"
     ]
    },
    {
     "name": "stdout",
     "output_type": "stream",
     "text": [
      "(259701, 64)\n"
     ]
    }
   ],
   "source": [
    "# load csv file from wharton data research services for monthly stock prices\n",
    "company_prices = pd.read_csv('companyStockPrices.csv')\n",
    "# company_prices_2 = pd.read_csv('companyStockPrices_2.csv')\n",
    "print(company_prices.shape)\n",
    "# print(company_prices_2.shape)\n",
    "\n",
    "# remove rows with nan values\n",
    "company_prices = company_prices[company_prices['COMNAM'].notna()]\n",
    "\n",
    "\n",
    "# DtypeWarning: Columns (5,9) have mixed types"
   ]
  },
  {
   "cell_type": "code",
   "execution_count": 22,
   "metadata": {},
   "outputs": [
    {
     "name": "stdout",
     "output_type": "stream",
     "text": [
      "column names for ratios df\n"
     ]
    },
    {
     "data": {
      "text/plain": [
       "Index(['gvkey', 'adate', 'qdate', 'public_date', 'CAPEI', 'bm', 'evm',\n",
       "       'pe_op_basic', 'pe_op_dil', 'pe_exi', 'pe_inc', 'ps', 'pcf', 'dpr',\n",
       "       'npm', 'opmbd', 'opmad', 'gpm', 'ptpm', 'cfm', 'roa', 'roe', 'roce',\n",
       "       'efftax', 'aftret_eq', 'aftret_invcapx', 'aftret_equity', 'pretret_noa',\n",
       "       'pretret_earnat', 'GProf', 'equity_invcap', 'debt_invcap',\n",
       "       'totdebt_invcap', 'capital_ratio', 'int_debt', 'int_totdebt', 'cash_lt',\n",
       "       'invt_act', 'rect_act', 'debt_at', 'debt_ebitda', 'short_debt',\n",
       "       'curr_debt', 'lt_debt', 'profit_lct', 'ocf_lct', 'cash_debt', 'fcf_ocf',\n",
       "       'lt_ppent', 'dltt_be', 'debt_assets', 'debt_capital', 'de_ratio',\n",
       "       'intcov', 'intcov_ratio', 'cash_ratio', 'quick_ratio', 'curr_ratio',\n",
       "       'cash_conversion', 'inv_turn', 'at_turn', 'rect_turn', 'pay_turn',\n",
       "       'sale_invcap', 'sale_equity', 'sale_nwc', 'rd_sale', 'adv_sale',\n",
       "       'staff_sale', 'accrual', 'ptb', 'PEG_trailing', 'divyield',\n",
       "       'PEG_1yrforward', 'PEG_ltgforward'],\n",
       "      dtype='object')"
      ]
     },
     "execution_count": 22,
     "metadata": {},
     "output_type": "execute_result"
    }
   ],
   "source": [
    "# company_financials.columns\n",
    "print('column names for ratios df')\n",
    "company_ratios.columns"
   ]
  },
  {
   "cell_type": "code",
   "execution_count": 23,
   "metadata": {},
   "outputs": [
    {
     "name": "stdout",
     "output_type": "stream",
     "text": [
      "column names for prices df\n"
     ]
    },
    {
     "data": {
      "text/plain": [
       "Index(['PERMNO', 'date', 'NAMEENDT', 'SHRCD', 'EXCHCD', 'SICCD', 'NCUSIP',\n",
       "       'TICKER', 'COMNAM', 'SHRCLS', 'TSYMBOL', 'NAICS', 'PRIMEXCH', 'TRDSTAT',\n",
       "       'SECSTAT', 'PERMCO', 'ISSUNO', 'HEXCD', 'HSICCD', 'CUSIP', 'DCLRDT',\n",
       "       'DLAMT', 'DLPDT', 'DLSTCD', 'NEXTDT', 'PAYDT', 'RCRDDT', 'SHRFLG',\n",
       "       'HSICMG', 'HSICIG', 'DISTCD', 'DIVAMT', 'FACPR', 'FACSHR', 'ACPERM',\n",
       "       'ACCOMP', 'SHRENDDT', 'NWPERM', 'DLRETX', 'DLPRC', 'DLRET', 'TRTSCD',\n",
       "       'NMSIND', 'MMCNT', 'NSDINX', 'BIDLO', 'ASKHI', 'PRC', 'VOL', 'RET',\n",
       "       'BID', 'ASK', 'SHROUT', 'CFACPR', 'CFACSHR', 'ALTPRC', 'SPREAD',\n",
       "       'ALTPRCDT', 'RETX', 'vwretd', 'vwretx', 'ewretd', 'ewretx', 'sprtrn'],\n",
       "      dtype='object')"
      ]
     },
     "execution_count": 23,
     "metadata": {},
     "output_type": "execute_result"
    }
   ],
   "source": [
    "print('column names for prices df')\n",
    "company_prices.columns"
   ]
  },
  {
   "cell_type": "code",
   "execution_count": 24,
   "metadata": {},
   "outputs": [
    {
     "name": "stdout",
     "output_type": "stream",
     "text": [
      "company name, stock price close annual, Debt due in one year, fiscal year\n"
     ]
    },
    {
     "data": {
      "text/html": [
       "<div>\n",
       "<style scoped>\n",
       "    .dataframe tbody tr th:only-of-type {\n",
       "        vertical-align: middle;\n",
       "    }\n",
       "\n",
       "    .dataframe tbody tr th {\n",
       "        vertical-align: top;\n",
       "    }\n",
       "\n",
       "    .dataframe thead th {\n",
       "        text-align: right;\n",
       "    }\n",
       "</style>\n",
       "<table border=\"1\" class=\"dataframe\">\n",
       "  <thead>\n",
       "    <tr style=\"text-align: right;\">\n",
       "      <th></th>\n",
       "      <th>conm</th>\n",
       "      <th>prcc_c</th>\n",
       "      <th>dd1</th>\n",
       "      <th>fyear</th>\n",
       "    </tr>\n",
       "  </thead>\n",
       "  <tbody>\n",
       "    <tr>\n",
       "      <th>0</th>\n",
       "      <td>AMERICAN AIRLINES GROUP INC</td>\n",
       "      <td>13.750</td>\n",
       "      <td>0.0</td>\n",
       "      <td>1950.0</td>\n",
       "    </tr>\n",
       "    <tr>\n",
       "      <th>1</th>\n",
       "      <td>AMERICAN AIRLINES GROUP INC</td>\n",
       "      <td>16.875</td>\n",
       "      <td>0.0</td>\n",
       "      <td>1951.0</td>\n",
       "    </tr>\n",
       "    <tr>\n",
       "      <th>2</th>\n",
       "      <td>AMERICAN AIRLINES GROUP INC</td>\n",
       "      <td>14.750</td>\n",
       "      <td>0.0</td>\n",
       "      <td>1952.0</td>\n",
       "    </tr>\n",
       "    <tr>\n",
       "      <th>3</th>\n",
       "      <td>AMERICAN AIRLINES GROUP INC</td>\n",
       "      <td>11.375</td>\n",
       "      <td>0.0</td>\n",
       "      <td>1953.0</td>\n",
       "    </tr>\n",
       "    <tr>\n",
       "      <th>4</th>\n",
       "      <td>AMERICAN AIRLINES GROUP INC</td>\n",
       "      <td>22.375</td>\n",
       "      <td>0.0</td>\n",
       "      <td>1954.0</td>\n",
       "    </tr>\n",
       "    <tr>\n",
       "      <th>...</th>\n",
       "      <td>...</td>\n",
       "      <td>...</td>\n",
       "      <td>...</td>\n",
       "      <td>...</td>\n",
       "    </tr>\n",
       "    <tr>\n",
       "      <th>22950</th>\n",
       "      <td>ALLEGION PLC</td>\n",
       "      <td>65.920</td>\n",
       "      <td>0.0</td>\n",
       "      <td>2015.0</td>\n",
       "    </tr>\n",
       "    <tr>\n",
       "      <th>22951</th>\n",
       "      <td>ALLEGION PLC</td>\n",
       "      <td>64.000</td>\n",
       "      <td>48.2</td>\n",
       "      <td>2016.0</td>\n",
       "    </tr>\n",
       "    <tr>\n",
       "      <th>22952</th>\n",
       "      <td>ALLEGION PLC</td>\n",
       "      <td>79.560</td>\n",
       "      <td>35.0</td>\n",
       "      <td>2017.0</td>\n",
       "    </tr>\n",
       "    <tr>\n",
       "      <th>22953</th>\n",
       "      <td>ALLEGION PLC</td>\n",
       "      <td>79.710</td>\n",
       "      <td>35.3</td>\n",
       "      <td>2018.0</td>\n",
       "    </tr>\n",
       "    <tr>\n",
       "      <th>22954</th>\n",
       "      <td>ALLEGION PLC</td>\n",
       "      <td>124.540</td>\n",
       "      <td>25.9</td>\n",
       "      <td>2019.0</td>\n",
       "    </tr>\n",
       "  </tbody>\n",
       "</table>\n",
       "<p>22955 rows × 4 columns</p>\n",
       "</div>"
      ],
      "text/plain": [
       "                              conm   prcc_c   dd1   fyear\n",
       "0      AMERICAN AIRLINES GROUP INC   13.750   0.0  1950.0\n",
       "1      AMERICAN AIRLINES GROUP INC   16.875   0.0  1951.0\n",
       "2      AMERICAN AIRLINES GROUP INC   14.750   0.0  1952.0\n",
       "3      AMERICAN AIRLINES GROUP INC   11.375   0.0  1953.0\n",
       "4      AMERICAN AIRLINES GROUP INC   22.375   0.0  1954.0\n",
       "...                            ...      ...   ...     ...\n",
       "22950                 ALLEGION PLC   65.920   0.0  2015.0\n",
       "22951                 ALLEGION PLC   64.000  48.2  2016.0\n",
       "22952                 ALLEGION PLC   79.560  35.0  2017.0\n",
       "22953                 ALLEGION PLC   79.710  35.3  2018.0\n",
       "22954                 ALLEGION PLC  124.540  25.9  2019.0\n",
       "\n",
       "[22955 rows x 4 columns]"
      ]
     },
     "execution_count": 24,
     "metadata": {},
     "output_type": "execute_result"
    }
   ],
   "source": [
    "print('company name, stock price close annual, Debt due in one year, fiscal year')\n",
    "company_financials[['conm', 'prcc_c', 'dd1', 'fyear']] #,companyFinancials.conm,companyFinancials.fyear]"
   ]
  },
  {
   "cell_type": "code",
   "execution_count": 25,
   "metadata": {},
   "outputs": [
    {
     "name": "stdout",
     "output_type": "stream",
     "text": [
      "n companies in prices df: 978\n",
      "n companies in financials df: 500\n",
      "n companies in ratios df: 460\n"
     ]
    }
   ],
   "source": [
    "# check if company names are same in financials and stock prices data frames\n",
    "stock_names_prices_df = company_prices.TICKER.unique()\n",
    "# print(stock_names_prices_df)\n",
    "# print(' ')\n",
    "stock_names_financials_df = company_financials.conm.unique()\n",
    "# print(sorted(stock_names_financials_df))\n",
    "\n",
    "stock_gvkeys_ratios_df = company_ratios.gvkey.unique()\n",
    "print('n companies in prices df:', len(stock_names_prices_df))\n",
    "print('n companies in financials df:', len(stock_names_financials_df))\n",
    "print('n companies in ratios df:', len(stock_gvkeys_ratios_df))\n",
    "\n",
    "# test = [stock_names_prices_df == stock_names_financials_df]\n"
   ]
  },
  {
   "cell_type": "code",
   "execution_count": 26,
   "metadata": {},
   "outputs": [
    {
     "data": {
      "text/plain": [
       "(259116, 64)"
      ]
     },
     "execution_count": 26,
     "metadata": {},
     "output_type": "execute_result"
    }
   ],
   "source": [
    "company_prices[company_prices['COMNAM'].notna()].shape"
   ]
  },
  {
   "cell_type": "code",
   "execution_count": 27,
   "metadata": {},
   "outputs": [
    {
     "data": {
      "text/plain": [
       "(259116, 64)"
      ]
     },
     "execution_count": 27,
     "metadata": {},
     "output_type": "execute_result"
    }
   ],
   "source": [
    "company_prices.shape"
   ]
  },
  {
   "cell_type": "code",
   "execution_count": 28,
   "metadata": {},
   "outputs": [
    {
     "data": {
      "text/plain": [
       "0         0.494\n",
       "1         0.337\n",
       "2         0.337\n",
       "3         0.337\n",
       "4         0.337\n",
       "          ...  \n",
       "186384    0.120\n",
       "186385    0.120\n",
       "186386    0.120\n",
       "186387    0.121\n",
       "186388    0.121\n",
       "Name: cash_ratio, Length: 186389, dtype: float64"
      ]
     },
     "execution_count": 28,
     "metadata": {},
     "output_type": "execute_result"
    }
   ],
   "source": [
    "company_ratios['cash_ratio']"
   ]
  },
  {
   "cell_type": "code",
   "execution_count": 29,
   "metadata": {},
   "outputs": [
    {
     "data": {
      "text/plain": [
       "(22955, 981)"
      ]
     },
     "execution_count": 29,
     "metadata": {},
     "output_type": "execute_result"
    }
   ],
   "source": [
    "company_financials.shape"
   ]
  },
  {
   "cell_type": "code",
   "execution_count": 19,
   "metadata": {},
   "outputs": [
    {
     "name": "stdout",
     "output_type": "stream",
     "text": [
      "andy is a small chungus\n"
     ]
    }
   ],
   "source": [
    "print('andy is a small chungus')"
   ]
  },
  {
   "cell_type": "code",
   "execution_count": null,
   "metadata": {},
   "outputs": [],
   "source": []
  }
 ],
 "metadata": {
  "kernelspec": {
   "display_name": "Python 3",
   "language": "python",
   "name": "python3"
  },
  "language_info": {
   "codemirror_mode": {
    "name": "ipython",
    "version": 3
   },
   "file_extension": ".py",
   "mimetype": "text/x-python",
   "name": "python",
   "nbconvert_exporter": "python",
   "pygments_lexer": "ipython3",
   "version": "3.7.3"
  }
 },
 "nbformat": 4,
 "nbformat_minor": 4
}
