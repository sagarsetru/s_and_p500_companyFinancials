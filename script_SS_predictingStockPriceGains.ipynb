{
 "cells": [
  {
   "cell_type": "code",
   "execution_count": 71,
   "metadata": {},
   "outputs": [],
   "source": [
    "# Sagar Setru\n",
    "# July 1 2020\n",
    "# side project: predict stock price gains from company financials\n",
    "\n",
    "\n",
    "# part 1) get list of companies in S and P 500\n",
    "import requests\n",
    "from urllib.request import urlopen\n",
    "from bs4 import BeautifulSoup\n",
    "\n",
    "# URL from which to scrape\n",
    "URL = 'https://en.wikipedia.org/wiki/List_of_S%26P_500_companies'\n",
    "\n",
    "# get HTML data from URL via requests\n",
    "#stockPage = requests.get(URL)\n",
    "\n",
    "# get HTML data from URL vis urllib\n",
    "stockPage = urlopen(URL)\n",
    "\n",
    "# store HTML in soup object (from reqeusts package)\n",
    "#stockPage_soup = BeautifulSoup(page.content, 'html.parser')\n",
    "\n",
    "# store HTML in soup object (from urllib package)\n",
    "stockPage_soup = BeautifulSoup(stockPage, 'html.parser')\n",
    "\n",
    "# quick save HTML to file for external viewing\n",
    "#printToFile('stockPageHTML.txt',stockPage_view)\n",
    "\n",
    "# find the table tag\n",
    "stockPage_soup_table = stockPage_soup.find_all('table')"
   ]
  },
  {
   "cell_type": "code",
   "execution_count": 67,
   "metadata": {},
   "outputs": [
    {
     "name": "stdout",
     "output_type": "stream",
     "text": [
      "\n",
      "    quick function for printing variable to file\n",
      "    printToFile(filename,varToPrint)\n",
      "    \n"
     ]
    }
   ],
   "source": [
    "# to look at data\n",
    "import sys\n",
    "\n",
    "def printToFile(filename,varToPrint):\n",
    "    \"\"\"\n",
    "    quick function for printing variable to file\n",
    "    printToFile(filename,varToPrint)\n",
    "    \"\"\"\n",
    "    with open(filename,'w') as f:\n",
    "        print(varToPrint, file=f)\n",
    "    #...\n",
    "#...\n",
    "# print(printToFile.__doc__)\n",
    "# print(stockPage)\n",
    "# print(stockPage_soup_table)\n",
    "# printToFile('stockPageTable.txt', stockPage_soup_table)"
   ]
  },
  {
   "cell_type": "code",
   "execution_count": 70,
   "metadata": {},
   "outputs": [],
   "source": [
    "# list for ticker symbols\n",
    "tickers = []\n",
    "\n",
    "# NOTE: following tutorial here: https://towardsdatascience.com/step-by-step-tutorial-web-scraping-wikipedia-with-beautifulsoup-48d7f2dfa52d\n",
    "\n",
    "# print(len(stockPage_soup_table))\n",
    "# print(stockPage_soup_table[1])\n",
    "\n",
    "# loop through tables identified\n",
    "counter = -1\n",
    "for table in stockPage_soup_table:\n",
    "    counter += 1\n",
    "    \n",
    "    # only work on first table; second table is for changes to s and p index\n",
    "    if counter == 0 :\n",
    "        rows = table.find_all('tr')\n",
    "\n",
    "        for row in rows:\n",
    "            cells = row.find_all('td')\n",
    "\n",
    "            if len(cells) > 1:\n",
    "                ticker = cells[0]\n",
    "                tickers.append(ticker.text.strip())\n",
    "\n",
    "            #...\n",
    "        #...\n",
    "    #...\n",
    "#...\n",
    "\n",
    "# printToFile('tickerSymbolsForSNP500.txt',tickers)\n",
    "# for ticker in tickers:\n",
    "#     print(ticker)\n",
    "# print(counter)\n",
    "# print(tickers)\n",
    "# len(tickers)"
   ]
  },
  {
   "cell_type": "code",
   "execution_count": null,
   "metadata": {},
   "outputs": [],
   "source": [
    "# part 2) explore data"
   ]
  },
  {
   "cell_type": "code",
   "execution_count": null,
   "metadata": {},
   "outputs": [],
   "source": []
  }
 ],
 "metadata": {
  "kernelspec": {
   "display_name": "Python 3",
   "language": "python",
   "name": "python3"
  },
  "language_info": {
   "codemirror_mode": {
    "name": "ipython",
    "version": 3
   },
   "file_extension": ".py",
   "mimetype": "text/x-python",
   "name": "python",
   "nbconvert_exporter": "python",
   "pygments_lexer": "ipython3",
   "version": "3.7.3"
  }
 },
 "nbformat": 4,
 "nbformat_minor": 2
}
