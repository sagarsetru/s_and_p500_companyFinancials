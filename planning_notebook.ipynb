{
 "cells": [
  {
   "cell_type": "markdown",
   "metadata": {},
   "source": [
    "## Predicting stock price from company financials and financial ratios\n",
    "### Andrew Block, Sagar Setru, August 2020\n"
   ]
  },
  {
   "cell_type": "markdown",
   "metadata": {},
   "source": [
    "### August 28th, 2020\n",
    "#### Brainstorm\n",
    "* Using data from Wharton Data Research services\n",
    "    * Need to identify meaningful financial features and financial ratios in company financials and company ratios data frames, respectively\n",
    "    * Idea 1: supervised learning to predict price changes based on features on companies.\n",
    "        * Question: Does the market price stocks in a way that correlates with financial features of the companies?\n",
    "        * Hypothesis: The market prices stocks consistently and based on financial features of companies.\n",
    "        * As input, mostly real-valued features, and maybe some binary features (e.g., stock splits yes/no).\n",
    "        * As output, real-valued changes in company prices.\n",
    "        * Potential models: CART, NN, various classifiers.\n",
    "    * Idea 2: unsupervised learning/exploratory analysis\n",
    "        * Open-ended.\n",
    "        * Could be used to generate features.\n",
    "        * Do companies get valued differently based on their sector?\n",
    "        * Distribution of sectors over time. When did \"tech\" become a sector? What is a sector?"
   ]
  },
  {
   "cell_type": "code",
   "execution_count": null,
   "metadata": {},
   "outputs": [],
   "source": []
  }
 ],
 "metadata": {
  "kernelspec": {
   "display_name": "Python 3",
   "language": "python",
   "name": "python3"
  },
  "language_info": {
   "codemirror_mode": {
    "name": "ipython",
    "version": 3
   },
   "file_extension": ".py",
   "mimetype": "text/x-python",
   "name": "python",
   "nbconvert_exporter": "python",
   "pygments_lexer": "ipython3",
   "version": "3.7.3"
  }
 },
 "nbformat": 4,
 "nbformat_minor": 2
}
